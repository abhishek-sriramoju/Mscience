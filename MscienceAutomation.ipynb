{
 "cells": [
  {
   "cell_type": "code",
   "execution_count": 21,
   "id": "515995bc",
   "metadata": {},
   "outputs": [],
   "source": [
    "%run McienceSchema.ipynb\n",
    "import numpy as np\n",
    "import pandas as pd\n",
    "import boto3\n",
    "from fnmatch import fnmatch\n",
    "import os\n",
    "import re\n",
    "import io\n",
    "import smtplib \n",
    "from pretty_html_table import build_table\n",
    "from datetime import datetime\n",
    "from email.mime.text import MIMEText\n",
    "from email import encoders\n",
    "from email.message import Message\n",
    "from email.mime.audio import MIMEAudio\n",
    "from email.mime.base import MIMEBase\n",
    "from email.mime.image import MIMEImage\n",
    "from email.mime.multipart import MIMEMultipart\n",
    "from email.header import Header\n",
    "from pathlib import Path"
   ]
  },
  {
   "cell_type": "code",
   "execution_count": 22,
   "id": "6adefdc5",
   "metadata": {},
   "outputs": [],
   "source": [
    "def getS3Credentials():\n",
    "    file_path = \"C:/Users/abhishek.sriramoju_s/Desktop/MscienceCredentials.txt\"  #File path\n",
    "    try:\n",
    "        with open(file_path, 'r') as file:  #Opening the file that contains credentials\n",
    "            content = file.read()  #Reading the file\n",
    "    except FileNotFoundError:  \n",
    "        print(f\"File not found at {file_path}\")\n",
    "        content = \"\"\n",
    "\n",
    "\n",
    "    aws_access_key = None  \n",
    "    aws_secret_key = None\n",
    "    service_name = None\n",
    "    region_name = None\n",
    "\n",
    "    lines = content.split('\\n') #Spliting the string on the basis of next line\n",
    "    for line in lines:\n",
    "        if line.startswith(\"service_name\"):    #Getting the Service Name\n",
    "            service_name = line.split('=')[1].strip()\n",
    "        elif line.startswith(\"region_name\"):   #Getting the Region Name\n",
    "            region_name = line.split('=')[1].strip()\n",
    "        elif line.startswith(\"AWS_ACCESS_KEY_ID\"): #Getting the Access key\n",
    "            aws_access_key = line.split('=')[1].strip()\n",
    "        elif line.startswith(\"AWS_SECRET_ACCESS_KEY\"): #Getting the Secret key\n",
    "            aws_secret_key = line.split('=')[1].strip()\n",
    "        else :\n",
    "            bucket_name = line.split('=')[1].strip()\n",
    "            \n",
    "    return aws_access_key,aws_secret_key,service_name,region_name,bucket_name"
   ]
  },
  {
   "cell_type": "code",
   "execution_count": 23,
   "id": "5c7f4ac4",
   "metadata": {},
   "outputs": [],
   "source": [
    "#Connecting to amazon s3 bucket\n",
    "def buildConnection(service_name,region_name,aws_access_key_id,aws_secret_access_key):\n",
    "    resource = boto3.resource(service_name = service_name, #Service Name\n",
    "                        region_name = region_name,   #Region\n",
    "                        aws_access_key_id = aws_access_key, #Access key\n",
    "                        aws_secret_access_key = aws_secret_key) #Secrect key\n",
    "    return resource               "
   ]
  },
  {
   "cell_type": "code",
   "execution_count": 25,
   "id": "874b3704",
   "metadata": {},
   "outputs": [],
   "source": [
    "def getFiles(resource,bucket_name) :\n",
    "    bucket_name = bucket_name  #Bucket Name\n",
    "    categories_bucket = resource.Bucket(bucket_name) #Getting Bucket object\n",
    "    categories_files = categories_bucket.objects.filter(Prefix='tokopedia_pe_legacy/')  #Getting the objects of category file\n",
    "    category_dates = []  \n",
    "    categories_files\n",
    "    for obj in categories_files :  #Iterating on category files\n",
    "        name = obj.key  #Category file name\n",
    "        if fnmatch(name, \"*tokopedia_sku_pe_legacy*\") and fnmatch(name, \"*IsBackfillData=1*\") and fnmatch(name, \"*.parquet*\") :\n",
    "            values = name.split('_')   #Splitting the file names\n",
    "            values = values[5].split('/')[2]  #Will get the date in yyyy.mm.dd\n",
    "            date = list(map(int, values.split('.'))) \n",
    "            category_dates.append((name, datetime(date[0], date[1], date[2]))) #Appending datet and file name in category_dates\n",
    "\n",
    "    category_dates.sort(key = lambda x: x[1],reverse = True) #Sorting the list on the basis of date\n",
    "    return categorydates"
   ]
  },
  {
   "cell_type": "code",
   "execution_count": 24,
   "id": "29e4d176",
   "metadata": {},
   "outputs": [],
   "source": [
    "aws_access_key,aws_secret_key,service_name,region_name,bucket_name = getS3Credentials()\n",
    "resource = buildConnection(service_name,region_name,aws_access_key,aws_secret_key)\n",
    "latestFile,previousFile = getFiles()"
   ]
  },
  {
   "cell_type": "code",
   "execution_count": 19,
   "id": "fb27dd2f",
   "metadata": {},
   "outputs": [
    {
     "data": {
      "text/plain": [
       "s3.ServiceResource()"
      ]
     },
     "execution_count": 19,
     "metadata": {},
     "output_type": "execute_result"
    }
   ],
   "source": []
  },
  {
   "cell_type": "code",
   "execution_count": null,
   "id": "f7399239",
   "metadata": {},
   "outputs": [],
   "source": []
  },
  {
   "cell_type": "code",
   "execution_count": null,
   "id": "9abf0e60",
   "metadata": {},
   "outputs": [],
   "source": []
  }
 ],
 "metadata": {
  "kernelspec": {
   "display_name": "Python 3 (ipykernel)",
   "language": "python",
   "name": "python3"
  },
  "language_info": {
   "codemirror_mode": {
    "name": "ipython",
    "version": 3
   },
   "file_extension": ".py",
   "mimetype": "text/x-python",
   "name": "python",
   "nbconvert_exporter": "python",
   "pygments_lexer": "ipython3",
   "version": "3.11.4"
  }
 },
 "nbformat": 4,
 "nbformat_minor": 5
}
