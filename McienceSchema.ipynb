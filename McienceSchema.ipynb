{
 "cells": [
  {
   "cell_type": "code",
   "execution_count": null,
   "id": "d7a48563",
   "metadata": {},
   "outputs": [],
   "source": [
    "agentConfig = {\n",
    "    \"UnderArmour\" : {\n",
    "        \"RunDate\" : \"RunDate\",\n",
    "        \"RunID\" : \"RunID\",\n",
    "        \"CategoryId\" : \"CategoryId\",\n",
    "        \"SKU\" : \"SKU\",\n",
    "        \"UPC\" : \"UPC\",\n",
    "        \"ProductId\" : \"ProductId\",\n",
    "        \"ProductName\" : \"ProductName\",\n",
    "        \"Price\" : \"Price\",\n",
    "        \"SalePrice\" : \"SalePrice\"\n",
    "    },\n",
    "    \"Adidas\" : {\n",
    "        \"RunDate\" : \"RunDate\",\n",
    "        \"RunID\" : \"RunID\",\n",
    "        \"CategoryId\" : \"CategoryID\",\n",
    "        \"SKU\" : \"SKU\",\n",
    "        \"ProductId\" : \"ProductId\",\n",
    "        \"ProductName\" : \"ProductName\",\n",
    "        \"Price\" : \"Price\",\n",
    "        \"SalePrice\" : \"SalePrice\"\n",
    "    },\n",
    "    \"AutoNation\" : {\n",
    "        \"AutoNation_Vehicles_ID\" : \"Auto Nation_Vehicles_ID\",\n",
    "        \"RunDate\" : \"RunDate\",\n",
    "        \"RunID\" : \"RunID\",\n",
    "        \"CategoryId\" : \"CategoryID\",\n",
    "        \"SKU\" : \"SKU\",\n",
    "        \"ProductId\" : \"ProductId\",\n",
    "        \"ProductName\" : \"ProductName\",\n",
    "        \"Price\" : \"Price\",\n",
    "        \"SalePrice\" : \"SalePrice\"\n",
    "    }\n",
    "}"
   ]
  }
 ],
 "metadata": {
  "kernelspec": {
   "display_name": "Python 3 (ipykernel)",
   "language": "python",
   "name": "python3"
  },
  "language_info": {
   "codemirror_mode": {
    "name": "ipython",
    "version": 3
   },
   "file_extension": ".py",
   "mimetype": "text/x-python",
   "name": "python",
   "nbconvert_exporter": "python",
   "pygments_lexer": "ipython3",
   "version": "3.11.4"
  }
 },
 "nbformat": 4,
 "nbformat_minor": 5
}
